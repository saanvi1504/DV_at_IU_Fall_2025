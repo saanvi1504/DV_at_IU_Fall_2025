{
  "cells": [
    {
      "cell_type": "markdown",
      "metadata": {
        "id": "view-in-github",
        "colab_type": "text"
      },
      "source": [
        "<a href=\"https://colab.research.google.com/github/saanvi1504/DV_at_IU_Fall_2025/blob/main/PythonFundamentals_CO2_Emissions.ipynb\" target=\"_parent\"><img src=\"https://colab.research.google.com/assets/colab-badge.svg\" alt=\"Open In Colab\"/></a>"
      ]
    },
    {
      "cell_type": "markdown",
      "metadata": {
        "id": "SIwCMs_F54NQ"
      },
      "source": [
        "# Python Fundamentals"
      ],
      "id": "SIwCMs_F54NQ"
    },
    {
      "cell_type": "code",
      "execution_count": 2,
      "metadata": {
        "colab": {
          "base_uri": "https://localhost:8080/"
        },
        "id": "UPPBVc6F54NS",
        "outputId": "7ce4819b-071e-4ddc-f66a-cb96c500b4b1"
      },
      "outputs": [
        {
          "output_type": "stream",
          "name": "stdout",
          "text": [
            "Saanvi\n",
            "19\n",
            "Aurora\n"
          ]
        }
      ],
      "source": [
        "# --- Variables ---\n",
        "my_name = \"Saanvi\"      # A string (text)\n",
        "my_age = 19             # An integer (whole number)\n",
        "\n",
        "print(my_name)\n",
        "print(my_age)\n",
        "\n",
        "# 👉 Your Turn:\n",
        "# Make a variable called city and store the name of the city you are from.\n",
        "# Then print it.\n",
        "\n",
        "city = \"Aurora\"\n",
        "print(city)\n"
      ],
      "id": "UPPBVc6F54NS"
    },
    {
      "cell_type": "code",
      "execution_count": 4,
      "metadata": {
        "colab": {
          "base_uri": "https://localhost:8080/"
        },
        "id": "54j8Xlb954NU",
        "outputId": "ee12e930-fab6-452e-b90e-b95e047b8e96"
      },
      "outputs": [
        {
          "output_type": "stream",
          "name": "stdout",
          "text": [
            "5.5\n",
            "True\n",
            "2006\n"
          ]
        }
      ],
      "source": [
        "# --- Data Types ---\n",
        "height = 5.5            # A float (decimal number)\n",
        "is_student = True       # A boolean (True/False)\n",
        "\n",
        "print(height)\n",
        "print(is_student)\n",
        "\n",
        "# 👉 Your Turn:\n",
        "# Make an integer variable for your birth year and print it.\n",
        "\n",
        "birth_year = 2006\n",
        "print(birth_year)\n"
      ],
      "id": "54j8Xlb954NU"
    },
    {
      "cell_type": "code",
      "execution_count": 5,
      "metadata": {
        "colab": {
          "base_uri": "https://localhost:8080/"
        },
        "id": "hYapEB1F54NU",
        "outputId": "dd7add6f-ab29-4b64-f087-8a319382f7e3"
      },
      "outputs": [
        {
          "output_type": "stream",
          "name": "stdout",
          "text": [
            "['red', 'green', 'blue']\n",
            "red\n",
            "orange\n"
          ]
        }
      ],
      "source": [
        "# --- Lists ---\n",
        "colors = [\"red\", \"green\", \"blue\"]\n",
        "print(colors)\n",
        "print(colors[0])\n",
        "\n",
        "# 👉 Your Turn:\n",
        "# Make a list of 3 colors and print the third color.\n",
        "list_colors = [\"blue\",\"yellow\",\"orange\"]\n",
        "print(list_colors[2])\n",
        "\n",
        "# my favorite color is actually blue"
      ],
      "id": "hYapEB1F54NU"
    },
    {
      "cell_type": "code",
      "execution_count": 10,
      "metadata": {
        "colab": {
          "base_uri": "https://localhost:8080/"
        },
        "id": "oFXOytlP54NU",
        "outputId": "763493a8-9aec-457b-8b48-e2d761105e3e"
      },
      "outputs": [
        {
          "output_type": "stream",
          "name": "stdout",
          "text": [
            "{'France': 'Paris', 'India': 'New Delhi', 'Japan': 'Tokyo'}\n",
            "Paris\n",
            "{'name': 'Saanvi', 'age': 19, 'major': 'Finance'}\n",
            "Finance\n"
          ]
        }
      ],
      "source": [
        "# --- Dictionaries ---\n",
        "capitals = {\n",
        "    \"France\": \"Paris\",\n",
        "    \"India\": \"New Delhi\",\n",
        "    \"Japan\": \"Tokyo\"\n",
        "}\n",
        "print(capitals)\n",
        "print(capitals[\"France\"])\n",
        "\n",
        "# 👉 Your Turn:\n",
        "# Make a dictionary with keys \"name\", \"age\", and \"major\".\n",
        "# Fill in your own information and print your major.\n",
        "\n",
        "dictionary = {\n",
        "    \"name\": \"Saanvi\",\n",
        "    \"age\": 19,\n",
        "    \"major\": \"Finance\"\n",
        "}\n",
        "\n",
        "print(dictionary)\n",
        "print(dictionary[\"major\"])\n"
      ],
      "id": "oFXOytlP54NU"
    },
    {
      "cell_type": "code",
      "execution_count": null,
      "metadata": {
        "id": "GAF7Vibr54NU"
      },
      "outputs": [],
      "source": [
        "# --- Comments ---\n",
        "# This is a comment, Python ignores it\n",
        "\n",
        "# 👉 Your Turn:\n",
        "# Write a comment below that says what your favorite food is\n"
      ],
      "id": "GAF7Vibr54NU"
    },
    {
      "cell_type": "code",
      "execution_count": null,
      "metadata": {
        "id": "0qy_ngTn54NV"
      },
      "outputs": [],
      "source": [
        "# --- Functions ---\n",
        "def greet(person):\n",
        "    print(\"Hello\", person)\n",
        "\n",
        "greet(\"World\")\n",
        "\n",
        "# 👉 Your Turn:\n",
        "# Write a function called say_hi(y) that prints \"Hi\" and y.\n",
        "# Test it by calling say_hi(\"Your Name\").\n"
      ],
      "id": "0qy_ngTn54NV"
    },
    {
      "cell_type": "code",
      "execution_count": null,
      "metadata": {
        "id": "3GAclaWh54NV"
      },
      "outputs": [],
      "source": [
        "# --- If Statements ---\n",
        "x = 10\n",
        "if x > 5:\n",
        "    print(\"x is greater than 5\")\n",
        "\n",
        "# 👉 Your Turn:\n",
        "# Write an if statement that prints \"x is 9\" if x is 9.\n",
        "\n"
      ],
      "id": "3GAclaWh54NV"
    },
    {
      "cell_type": "code",
      "execution_count": null,
      "metadata": {
        "id": "RXQz3hSo54NV"
      },
      "outputs": [],
      "source": [
        "# --- Conditions + Connectives ---\n",
        "day = \"Saturday\"\n",
        "day_2 = \"Sunday\"\n",
        "if day == \"Saturday\" and day_2 == \"Sunday\":\n",
        "    print(\"It is the weekend!\")\n",
        "\n",
        "# 👉 Your Turn:\n",
        "# Write an if statement that prints \"Weekday\"\n",
        "# if practice_date is not Saturday or Sunday.\n",
        "practice_date = \"\"\n"
      ],
      "id": "RXQz3hSo54NV"
    },
    {
      "cell_type": "code",
      "execution_count": null,
      "metadata": {
        "id": "gPIqL8zR54NV"
      },
      "outputs": [],
      "source": [
        "# --- For Loop ---\n",
        "for num in [1, 2, 3]:\n",
        "    print(\"Number:\", num)\n",
        "\n",
        "# 👉 Your Turn:\n",
        "# Write a for loop that prints each letter in the word \"Python\"\n"
      ],
      "id": "gPIqL8zR54NV"
    },
    {
      "cell_type": "markdown",
      "metadata": {
        "id": "NHMBnufp54NV"
      },
      "source": [
        "# Global CO₂ Emissions Animation (Python + Plotly)"
      ],
      "id": "NHMBnufp54NV"
    },
    {
      "cell_type": "code",
      "execution_count": null,
      "metadata": {
        "id": "n3hrdqrP54NV"
      },
      "outputs": [],
      "source": [
        "import pandas as pd\n",
        "import plotly.express as px\n",
        "\n",
        "years = [1960, 1970, 1980, 1990, 2000, 2010, 2020, 2023]\n",
        "\n",
        "countries = [\n",
        "    \"United States\", \"China\", \"India\", \"Russia\", \"Japan\",\n",
        "    \"Germany\", \"Brazil\", \"Canada\", \"Australia\", \"South Africa\", \"United Kingdom\", \"France\"\n",
        "]\n",
        "\n",
        "base_trends = {\n",
        "    \"United States\": [2950, 4300, 4900, 5100, 5900, 5600, 4800, 4900],\n",
        "    \"China\":         [ 550,  900, 1800, 2400, 3300, 7800,10100,10700],\n",
        "    \"India\":         [ 130,  180,  320,  580,  970, 1900, 2600, 2700],\n",
        "    \"Russia\":        [ 900, 1300, 2100, 2400, 1600, 1700, 1600, 1700],\n",
        "    \"Japan\":         [ 270,  540, 1100, 1150, 1250, 1200, 1100, 1100],\n",
        "    \"Germany\":       [ 250,  350,  470,  980,  830,  820,  650,  630],\n",
        "    \"Brazil\":        [ 100,  140,  230,  300,  380,  460,  500,  520],\n",
        "    \"Canada\":        [ 200,  310,  420,  460,  590,  560,  540,  550],\n",
        "    \"Australia\":     [  90,  150,  240,  270,  360,  410,  390,  400],\n",
        "    \"South Africa\":  [  80,  140,  180,  300,  340,  390,  440,  430],\n",
        "    \"United Kingdom\":[ 600,  650,  710,  600,  550,  500,  390,  380],\n",
        "    \"France\":        [ 400,  450,  480,  410,  390,  380,  320,  310],\n",
        "}\n",
        "\n",
        "rows = []\n",
        "for country, values in base_trends.items():\n",
        "    for y, v in zip(years, values):\n",
        "        rows.append({\"Country\": country, \"Year\": y, \"CO2_Mt\": v})\n",
        "\n",
        "df = pd.DataFrame(rows)\n"
      ],
      "id": "n3hrdqrP54NV"
    },
    {
      "cell_type": "code",
      "execution_count": 12,
      "metadata": {
        "colab": {
          "base_uri": "https://localhost:8080/",
          "height": 216
        },
        "id": "Km3ffili54NW",
        "outputId": "a1e03b44-6445-4f48-9290-2eaa21a67d39"
      },
      "outputs": [
        {
          "output_type": "error",
          "ename": "NameError",
          "evalue": "name 'px' is not defined",
          "traceback": [
            "\u001b[0;31m---------------------------------------------------------------------------\u001b[0m",
            "\u001b[0;31mNameError\u001b[0m                                 Traceback (most recent call last)",
            "\u001b[0;32m/tmp/ipython-input-932613717.py\u001b[0m in \u001b[0;36m<cell line: 0>\u001b[0;34m()\u001b[0m\n\u001b[0;32m----> 1\u001b[0;31m fig_map = px.choropleth(\n\u001b[0m\u001b[1;32m      2\u001b[0m     \u001b[0mdf\u001b[0m\u001b[0;34m,\u001b[0m\u001b[0;34m\u001b[0m\u001b[0;34m\u001b[0m\u001b[0m\n\u001b[1;32m      3\u001b[0m     \u001b[0mlocations\u001b[0m\u001b[0;34m=\u001b[0m\u001b[0;34m\"Country\"\u001b[0m\u001b[0;34m,\u001b[0m\u001b[0;34m\u001b[0m\u001b[0;34m\u001b[0m\u001b[0m\n\u001b[1;32m      4\u001b[0m     \u001b[0mlocationmode\u001b[0m\u001b[0;34m=\u001b[0m\u001b[0;34m\"country names\"\u001b[0m\u001b[0;34m,\u001b[0m\u001b[0;34m\u001b[0m\u001b[0;34m\u001b[0m\u001b[0m\n\u001b[1;32m      5\u001b[0m     \u001b[0mcolor\u001b[0m\u001b[0;34m=\u001b[0m\u001b[0;34m\"CO2_Mt\"\u001b[0m\u001b[0;34m,\u001b[0m\u001b[0;34m\u001b[0m\u001b[0;34m\u001b[0m\u001b[0m\n",
            "\u001b[0;31mNameError\u001b[0m: name 'px' is not defined"
          ]
        }
      ],
      "source": [
        "fig_map = px.choropleth(\n",
        "    df,\n",
        "    locations=\"Country\",\n",
        "    locationmode=\"country names\",\n",
        "    color=\"CO2_Mt\",\n",
        "    hover_name=\"Country\",\n",
        "    animation_frame=\"Year\",\n",
        "    color_continuous_scale=\"Reds\",\n",
        "    range_color=(0, df[\"CO2_Mt\"].max() * 1.05),\n",
        "    labels={\"CO2_Mt\": \"CO₂ (Mt)\"},\n",
        "    title=\"Global CO₂ Emissions (Illustrative) — Animated 1960–2023\"\n",
        ")\n",
        "fig_map.show()\n"
      ],
      "id": "Km3ffili54NW"
    },
    {
      "cell_type": "code",
      "execution_count": 13,
      "metadata": {
        "colab": {
          "base_uri": "https://localhost:8080/",
          "height": 180
        },
        "id": "HT7T2jWe54NW",
        "outputId": "f8e52c68-04a9-411b-e0a9-499e8a2aafff"
      },
      "outputs": [
        {
          "output_type": "error",
          "ename": "NameError",
          "evalue": "name 'df' is not defined",
          "traceback": [
            "\u001b[0;31m---------------------------------------------------------------------------\u001b[0m",
            "\u001b[0;31mNameError\u001b[0m                                 Traceback (most recent call last)",
            "\u001b[0;32m/tmp/ipython-input-3063499677.py\u001b[0m in \u001b[0;36m<cell line: 0>\u001b[0;34m()\u001b[0m\n\u001b[1;32m      6\u001b[0m     \u001b[0;32mreturn\u001b[0m \u001b[0mpd\u001b[0m\u001b[0;34m.\u001b[0m\u001b[0mconcat\u001b[0m\u001b[0;34m(\u001b[0m\u001b[0mout\u001b[0m\u001b[0;34m,\u001b[0m \u001b[0mignore_index\u001b[0m\u001b[0;34m=\u001b[0m\u001b[0;32mTrue\u001b[0m\u001b[0;34m)\u001b[0m\u001b[0;34m\u001b[0m\u001b[0;34m\u001b[0m\u001b[0m\n\u001b[1;32m      7\u001b[0m \u001b[0;34m\u001b[0m\u001b[0m\n\u001b[0;32m----> 8\u001b[0;31m \u001b[0mtop_df\u001b[0m \u001b[0;34m=\u001b[0m \u001b[0mtop_emitters_per_year\u001b[0m\u001b[0;34m(\u001b[0m\u001b[0mdf\u001b[0m\u001b[0;34m,\u001b[0m \u001b[0mtop_n\u001b[0m\u001b[0;34m=\u001b[0m\u001b[0;36m8\u001b[0m\u001b[0;34m)\u001b[0m\u001b[0;34m\u001b[0m\u001b[0;34m\u001b[0m\u001b[0m\n\u001b[0m",
            "\u001b[0;31mNameError\u001b[0m: name 'df' is not defined"
          ]
        }
      ],
      "source": [
        "def top_emitters_per_year(dataframe, top_n=8):\n",
        "    out = []\n",
        "    for y in sorted(dataframe[\"Year\"].unique()):\n",
        "        chunk = dataframe[dataframe[\"Year\"] == y].nlargest(top_n, \"CO2_Mt\").copy()\n",
        "        out.append(chunk)\n",
        "    return pd.concat(out, ignore_index=True)\n",
        "\n",
        "top_df = top_emitters_per_year(df, top_n=8)\n"
      ],
      "id": "HT7T2jWe54NW"
    },
    {
      "cell_type": "code",
      "execution_count": 14,
      "metadata": {
        "colab": {
          "base_uri": "https://localhost:8080/",
          "height": 216
        },
        "id": "pmU0tALX54NW",
        "outputId": "d0cea19a-7e05-41bc-9a2e-743e0bcecb41"
      },
      "outputs": [
        {
          "output_type": "error",
          "ename": "NameError",
          "evalue": "name 'px' is not defined",
          "traceback": [
            "\u001b[0;31m---------------------------------------------------------------------------\u001b[0m",
            "\u001b[0;31mNameError\u001b[0m                                 Traceback (most recent call last)",
            "\u001b[0;32m/tmp/ipython-input-2923614354.py\u001b[0m in \u001b[0;36m<cell line: 0>\u001b[0;34m()\u001b[0m\n\u001b[0;32m----> 1\u001b[0;31m fig_bars = px.bar(\n\u001b[0m\u001b[1;32m      2\u001b[0m     \u001b[0mtop_df\u001b[0m\u001b[0;34m,\u001b[0m\u001b[0;34m\u001b[0m\u001b[0;34m\u001b[0m\u001b[0m\n\u001b[1;32m      3\u001b[0m     \u001b[0mx\u001b[0m\u001b[0;34m=\u001b[0m\u001b[0;34m\"CO2_Mt\"\u001b[0m\u001b[0;34m,\u001b[0m\u001b[0;34m\u001b[0m\u001b[0;34m\u001b[0m\u001b[0m\n\u001b[1;32m      4\u001b[0m     \u001b[0my\u001b[0m\u001b[0;34m=\u001b[0m\u001b[0;34m\"Country\"\u001b[0m\u001b[0;34m,\u001b[0m\u001b[0;34m\u001b[0m\u001b[0;34m\u001b[0m\u001b[0m\n\u001b[1;32m      5\u001b[0m     \u001b[0mcolor\u001b[0m\u001b[0;34m=\u001b[0m\u001b[0;34m\"Country\"\u001b[0m\u001b[0;34m,\u001b[0m\u001b[0;34m\u001b[0m\u001b[0;34m\u001b[0m\u001b[0m\n",
            "\u001b[0;31mNameError\u001b[0m: name 'px' is not defined"
          ]
        }
      ],
      "source": [
        "fig_bars = px.bar(\n",
        "    top_df,\n",
        "    x=\"CO2_Mt\",\n",
        "    y=\"Country\",\n",
        "    color=\"Country\",\n",
        "    orientation=\"h\",\n",
        "    animation_frame=\"Year\",\n",
        "    range_x=(0, df[\"CO2_Mt\"].max() * 1.1),\n",
        "    labels={\"CO2_Mt\": \"CO₂ (Mt)\"},\n",
        "    title=\"Top CO₂ Emitters by Year (Illustrative) — Animated\"\n",
        ")\n",
        "fig_bars.show()\n"
      ],
      "id": "pmU0tALX54NW"
    }
  ],
  "metadata": {
    "kernelspec": {
      "display_name": "Python 3",
      "language": "python",
      "name": "python3"
    },
    "language_info": {
      "name": "python",
      "pygments_lexer": "ipython3"
    },
    "colab": {
      "provenance": [],
      "include_colab_link": true
    }
  },
  "nbformat": 4,
  "nbformat_minor": 5
}